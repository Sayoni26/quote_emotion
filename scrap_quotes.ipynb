{
 "cells": [
  {
   "cell_type": "code",
   "execution_count": 1,
   "metadata": {},
   "outputs": [],
   "source": [
    "from bs4 import BeautifulSoup\n",
    "import requests\n",
    "import json"
   ]
  },
  {
   "cell_type": "code",
   "execution_count": 2,
   "metadata": {},
   "outputs": [],
   "source": [
    "base_url=\"https://www.goodreads.com/quotes/tag/{0}?page={1}\" # the url of the site from where\n",
    "                                                            #quotes will be scrapped\n",
    "                                                            # emotion and page number will be inserted later"
   ]
  },
  {
   "cell_type": "code",
   "execution_count": 3,
   "metadata": {},
   "outputs": [],
   "source": [
    "def process(content,emotion):  # function to clean the content of the webpage \n",
    "    soup=BeautifulSoup(content)\n",
    "    quotes_div=soup.find_all(\"div\",attrs={\"class\",\"quote\"}) \n",
    "    quotes=[]\n",
    "    for div in quotes_div:\n",
    "        q_text=div.find(\"div\",attrs={\"class\",\"quoteText\"})\n",
    "        quote=(q_text.text.strip().split('\\n')[0])\n",
    "        author=q_text.find(\"span\",attrs={\"class\",\"authorOrTitle\"}).text.strip()\n",
    "        q_dict={\"quote\":quote,\"author\":author,\"emotion\":emotion}\n",
    "        quotes.append(q_dict)\n",
    "    return quotes"
   ]
  },
  {
   "cell_type": "code",
   "execution_count": 4,
   "metadata": {},
   "outputs": [],
   "source": [
    "emotions=['friend','sad']  # you can select any other emotion\n",
    "quotes=[]\n",
    "for emotion in emotions:\n",
    "    for index in range(1,10):  # here 10 pages have been taken more pages can be taken for increasing accuracy\n",
    "        final_url=base_url.format(emotion,index)\n",
    "        page=requests.get(final_url)\n",
    "        content=page.text\n",
    "        quotes+=process(content,emotion)"
   ]
  },
  {
   "cell_type": "code",
   "execution_count": 5,
   "metadata": {},
   "outputs": [
    {
     "data": {
      "text/plain": [
       "540"
      ]
     },
     "execution_count": 5,
     "metadata": {},
     "output_type": "execute_result"
    }
   ],
   "source": [
    "len(quotes) # 540 quotes scrapped"
   ]
  },
  {
   "cell_type": "code",
   "execution_count": 8,
   "metadata": {},
   "outputs": [
    {
     "data": {
      "text/plain": [
       "{'quote': '“A friend is someone who knows all about you and still loves you.”',\n",
       " 'author': 'Elbert Hubbard',\n",
       " 'emotion': 'friend'}"
      ]
     },
     "execution_count": 8,
     "metadata": {},
     "output_type": "execute_result"
    }
   ],
   "source": [
    "quotes[0] # see what the first quote is"
   ]
  },
  {
   "cell_type": "code",
   "execution_count": 7,
   "metadata": {},
   "outputs": [],
   "source": [
    "with open('quote.json','w') as file: # dump the quotes in json file\n",
    "    json.dump(quotes,file)"
   ]
  }
 ],
 "metadata": {
  "kernelspec": {
   "display_name": "Python 3",
   "language": "python",
   "name": "python3"
  },
  "language_info": {
   "codemirror_mode": {
    "name": "ipython",
    "version": 3
   },
   "file_extension": ".py",
   "mimetype": "text/x-python",
   "name": "python",
   "nbconvert_exporter": "python",
   "pygments_lexer": "ipython3",
   "version": "3.7.1"
  }
 },
 "nbformat": 4,
 "nbformat_minor": 2
}
